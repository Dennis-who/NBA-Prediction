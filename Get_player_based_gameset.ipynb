{
 "cells": [
  {
   "cell_type": "code",
   "execution_count": 12,
   "metadata": {},
   "outputs": [],
   "source": [
    "import pandas as pd\n",
    "import numpy as np\n",
    "import matplotlib.pyplot as plt\n",
    "\n",
    "from IPython.display import display"
   ]
  },
  {
   "cell_type": "code",
   "execution_count": 13,
   "metadata": {},
   "outputs": [],
   "source": [
    "games = pd.read_csv('games.csv')\n",
    "games_details = pd.read_csv('games_details.csv')\n",
    "players = pd.read_csv('players.csv')\n",
    "teams = pd.read_csv('teams.csv')\n",
    "ranking = pd.read_csv('ranking.csv')"
   ]
  },
  {
   "cell_type": "code",
   "execution_count": 88,
   "metadata": {},
   "outputs": [
    {
     "name": "stdout",
     "output_type": "stream",
     "text": [
      "False\n"
     ]
    }
   ],
   "source": [
    "print('2012-04-01'>'2016-01-22')"
   ]
  },
  {
   "cell_type": "code",
   "execution_count": 94,
   "metadata": {},
   "outputs": [],
   "source": [
    "def get_player_10g_before_date(player_id, date, stats_cols):\n",
    "    hisgames = games_details.loc[(games_details['PLAYER_ID'] == player_id) & (games_details.isna()['COMMENT'] == True)]\n",
    "    \n",
    "    hisgames['GAME_DATE'] = ''\n",
    "    \n",
    "    for i in range(len(hisgames['GAME_ID'])):\n",
    "        for j in range(len(games['GAME_ID'])):\n",
    "            if hisgames['GAME_ID'].values[i] == games['GAME_ID'].values[j]: \n",
    "                hisgames['GAME_DATE'].values[i] = games['GAME_DATE_EST'].values[j]\n",
    "    hisgames = hisgames.loc[hisgames['GAME_DATE'] < date]\n",
    "    hisgames = hisgames.sort_values(by = 'GAME_DATE', ascending = False)\n",
    "    \n",
    "    if len(hisgames) > 10:\n",
    "        hisgames = hisgames.head(10)\n",
    "    tengamestats = hisgames[stats_cols].mean(axis = 0)\n",
    "    return tengamestats"
   ]
  },
  {
   "cell_type": "code",
   "execution_count": 109,
   "metadata": {},
   "outputs": [],
   "source": [
    "STATS_COLUMNS = ['FGM','FGA','FG_PCT', 'FG3M', 'FG3A','FG3_PCT', 'FTM', 'FTA', 'FT_PCT', 'REB', 'AST','STL', 'BLK', 'TO', 'PTS', 'PLUS_MINUS']\n",
    "\n",
    "# player_id = 201142\n",
    "# date = '2014-03-24'\n",
    "# get_player_10g_before_date(player_id, date, STATS_COLUMNS)\n"
   ]
  },
  {
   "cell_type": "code",
   "execution_count": null,
   "metadata": {},
   "outputs": [],
   "source": [
    "grouped = games_details.groupby('GAME_ID')\n",
    "gmsamples = pd.DataFrame()\n",
    "\n",
    "for gameid in pd.unique(games_details['GAME_ID']):\n",
    "    onegame = grouped.get_group(gameid)\n",
    "    date = games.loc[games['GAME_ID'] == gameid]['GAME_DATE_EST']\n",
    "    date = date.values[0]\n",
    "#     games[games[]==’Donna’].index.values\n",
    "    line = pd.Series([])\n",
    "    for playerid in onegame['PLAYER_ID']:\n",
    "        oneplayerstats = get_player_10g_before_date(playerid, date, STATS_COLUMNS)\n",
    "        line = pd.concat([line, oneplayerstats], axis = 1)\n",
    "       \n",
    "        if len(line.columns) >20:\n",
    "            print('ONTO THE NEXT GAME')\n",
    "            break\n",
    "    gmsamples = pd.concat([gmsamples, line])\n",
    "    \n",
    "gmsamples['HOME_TEAM_WINS'] = games['HOME_TEAM_WINS']\n",
    "print(gmsamples)\n",
    "    \n",
    "        \n",
    "    "
   ]
  },
  {
   "cell_type": "code",
   "execution_count": null,
   "metadata": {},
   "outputs": [],
   "source": [
    "'''for every team, '''"
   ]
  }
 ],
 "metadata": {
  "kernelspec": {
   "display_name": "Python 3",
   "language": "python",
   "name": "python3"
  },
  "language_info": {
   "codemirror_mode": {
    "name": "ipython",
    "version": 3
   },
   "file_extension": ".py",
   "mimetype": "text/x-python",
   "name": "python",
   "nbconvert_exporter": "python",
   "pygments_lexer": "ipython3",
   "version": "3.8.5"
  }
 },
 "nbformat": 4,
 "nbformat_minor": 4
}
